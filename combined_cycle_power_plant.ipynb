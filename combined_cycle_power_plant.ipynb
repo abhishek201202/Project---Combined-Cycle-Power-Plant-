{
 "cells": [
  {
   "cell_type": "markdown",
   "metadata": {},
   "source": [
    "# Combined Cycle Power Plant"
   ]
  },
  {
   "cell_type": "code",
   "execution_count": 1,
   "metadata": {},
   "outputs": [],
   "source": [
    "import numpy as np\n",
    "import pandas as pd\n",
    "from sklearn import preprocessing"
   ]
  },
  {
   "cell_type": "markdown",
   "metadata": {},
   "source": [
    "### 1) Loading Training and Testing Data...."
   ]
  },
  {
   "cell_type": "code",
   "execution_count": 2,
   "metadata": {},
   "outputs": [
    {
     "data": {
      "text/plain": [
       "((7176, 5), (2392, 4))"
      ]
     },
     "execution_count": 2,
     "metadata": {},
     "output_type": "execute_result"
    }
   ],
   "source": [
    "testing_data = np.loadtxt(\"testing_data.csv\", delimiter = ',')\n",
    "training_data = np.genfromtxt(\"training_data.csv\", delimiter = ',')\n",
    "training_data.shape, testing_data.shape"
   ]
  },
  {
   "cell_type": "code",
   "execution_count": 3,
   "metadata": {},
   "outputs": [
    {
     "data": {
      "text/plain": [
       "((7176, 4), (7176,), (2392, 4))"
      ]
     },
     "execution_count": 3,
     "metadata": {},
     "output_type": "execute_result"
    }
   ],
   "source": [
    "x_train = training_data[ : , 0 : -1]\n",
    "y_train = training_data[ : , -1]\n",
    "x_test = testing_data[ : , : ]\n",
    "x_train.shape, y_train.shape, x_test.shape"
   ]
  },
  {
   "cell_type": "markdown",
   "metadata": {},
   "source": [
    "### 2) Feature Scaling"
   ]
  },
  {
   "cell_type": "code",
   "execution_count": 4,
   "metadata": {},
   "outputs": [
    {
     "data": {
      "text/plain": [
       "array([[   8.58,   38.38, 1021.03,   84.37],\n",
       "       [  21.79,   58.2 , 1017.21,   66.74],\n",
       "       [  16.64,   48.92, 1011.55,   78.76],\n",
       "       ...,\n",
       "       [  29.8 ,   69.34, 1009.36,   64.74],\n",
       "       [  16.37,   54.3 , 1017.94,   63.63],\n",
       "       [  30.11,   62.04, 1010.69,   47.96]])"
      ]
     },
     "execution_count": 4,
     "metadata": {},
     "output_type": "execute_result"
    }
   ],
   "source": [
    "x_train"
   ]
  },
  {
   "cell_type": "code",
   "execution_count": 5,
   "metadata": {},
   "outputs": [
    {
     "data": {
      "text/plain": [
       "array([[-1.47827466e+00, -1.24764165e+00,  1.30221067e+00,\n",
       "         7.58624590e-01],\n",
       "       [ 2.89012041e-01,  3.06797549e-01,  6.61749044e-01,\n",
       "        -4.46921842e-01],\n",
       "       [-3.99975582e-01, -4.21012529e-01, -2.87207194e-01,\n",
       "         3.75010552e-01],\n",
       "       ...,\n",
       "       [ 1.36062192e+00,  1.18048335e+00, -6.54382840e-01,\n",
       "        -5.83682640e-01],\n",
       "       [-4.36097263e-01,  9.29089763e-04,  7.84140927e-01,\n",
       "        -6.59584883e-01],\n",
       "       [ 1.40209496e+00,  6.07960340e-01, -4.31394890e-01,\n",
       "        -1.73110573e+00]])"
      ]
     },
     "execution_count": 5,
     "metadata": {},
     "output_type": "execute_result"
    }
   ],
   "source": [
    "## Scale training datasets\n",
    "scaler = preprocessing.StandardScaler()\n",
    "x_train = scaler.fit_transform(x_train)\n",
    "x_train"
   ]
  },
  {
   "cell_type": "markdown",
   "metadata": {},
   "source": [
    "### 3) Implement Generic Gradient Descent"
   ]
  },
  {
   "cell_type": "code",
   "execution_count": 6,
   "metadata": {},
   "outputs": [],
   "source": [
    "def score(Y_pred, Y_actual):\n",
    "    u = ((Y_actual-Y_pred)**2).sum()\n",
    "    v = ((Y_actual-Y_actual.mean())**2).sum()\n",
    "    cod = 1 - u/v\n",
    "    return cod\n",
    "\n",
    "def cost(X, Y, m):\n",
    "    total_cost = 0\n",
    "    N = len(X)\n",
    "    c = np.array([[1] for i in range(N)])\n",
    "    X = np.append(X, c, axis = 1)\n",
    "    print(X.shape)\n",
    "    for i in range(N):\n",
    "        x = X[i]\n",
    "        y = Y[i]\n",
    "        total_cost += (1/N) * (y - (m * x).sum()) ** 2\n",
    "    return total_cost\n",
    "\n",
    "def predict(X, m):\n",
    "    N = len(X)\n",
    "    c = np.array([[1] for i in range(N)])\n",
    "    X = np.append(X, c, axis = 1)\n",
    "    y_predict = []\n",
    "    for i in range(N):\n",
    "        y_predict.append((X[i] * m).sum())\n",
    "    return y_predict\n",
    "\n",
    "def step_gradient(X, Y, learning_rate, m):\n",
    "    N = len(X)\n",
    "    M = len(X[0])\n",
    "    new_m = []\n",
    "    for j in range(M):\n",
    "        m_slope = 0\n",
    "        for i in range(N):\n",
    "            x = X[i, : ] ## ith row\n",
    "            y = Y[i]     ##  output\n",
    "            m_slope += (-2/N) * (y - (m * x).sum()) * x[j]\n",
    "        m_slope = m[j] - learning_rate * m_slope\n",
    "        new_m.append(m_slope)\n",
    "    return new_m \n",
    "    \n",
    "    \n",
    "def gd(X, Y, learning_rate, num_iteration):\n",
    "    N = len(X)\n",
    "    M = len(X[0])\n",
    "    m = [0 for i in range(M)]\n",
    "    for i in range(num_iteration):\n",
    "        m = step_gradient(X, Y, learning_rate, m)\n",
    "    return m\n",
    "\n",
    "\n",
    "def fit(X, Y, learning_rate = 0.1, num_iteration = 100):\n",
    "    N = len(X)\n",
    "    ## For c(constant) ... add extra column\n",
    "    c = np.array([[1] for i in range(N)])\n",
    "    X = np.append(X, c, axis = 1)\n",
    "    m = gd(X, Y, learning_rate, num_iteration)\n",
    "    return m"
   ]
  },
  {
   "cell_type": "markdown",
   "metadata": {},
   "source": [
    "### 4) Score on training and testing data"
   ]
  },
  {
   "cell_type": "code",
   "execution_count": 7,
   "metadata": {},
   "outputs": [
    {
     "data": {
      "text/plain": [
       "[-13.883055046306245,\n",
       " -3.648929378779191,\n",
       " 0.5395473906772362,\n",
       " -2.0098218324370363,\n",
       " 454.4312931069847]"
      ]
     },
     "execution_count": 7,
     "metadata": {},
     "output_type": "execute_result"
    }
   ],
   "source": [
    "m = fit(x_train, y_train)\n",
    "m"
   ]
  },
  {
   "cell_type": "code",
   "execution_count": 8,
   "metadata": {},
   "outputs": [],
   "source": [
    "y_train_pred = predict(x_train, m)"
   ]
  },
  {
   "cell_type": "code",
   "execution_count": 9,
   "metadata": {},
   "outputs": [
    {
     "data": {
      "text/plain": [
       "0.9281545459956255"
      ]
     },
     "execution_count": 9,
     "metadata": {},
     "output_type": "execute_result"
    }
   ],
   "source": [
    "score(y_train_pred, y_train)"
   ]
  },
  {
   "cell_type": "code",
   "execution_count": 10,
   "metadata": {},
   "outputs": [],
   "source": [
    "x_test = scaler.transform(x_test)\n",
    "y_test_pred = predict(x_test, m)"
   ]
  },
  {
   "cell_type": "code",
   "execution_count": 11,
   "metadata": {},
   "outputs": [],
   "source": [
    "df = pd.DataFrame(y_test_pred)\n",
    "df.to_csv(\"Prediction.csv\", index = False, header = None)\n",
    "## Got a 0.92839% accuracy on Coding Ninjas"
   ]
  }
 ],
 "metadata": {
  "kernelspec": {
   "display_name": "Python 3",
   "language": "python",
   "name": "python3"
  },
  "language_info": {
   "codemirror_mode": {
    "name": "ipython",
    "version": 3
   },
   "file_extension": ".py",
   "mimetype": "text/x-python",
   "name": "python",
   "nbconvert_exporter": "python",
   "pygments_lexer": "ipython3",
   "version": "3.7.6"
  }
 },
 "nbformat": 4,
 "nbformat_minor": 2
}
